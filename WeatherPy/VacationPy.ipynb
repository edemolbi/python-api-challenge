{
 "cells": [
  {
   "cell_type": "code",
   "execution_count": 145,
   "id": "c584921e-46c6-4c0a-915b-6def8cc9ab2d",
   "metadata": {},
   "outputs": [],
   "source": [
    " # Dependencies and Setup\n",
    "import matplotlib.pyplot as plt\n",
    "import pandas as pd\n",
    "import numpy as np\n",
    "import requests\n",
    "import gmaps\n",
    "import os\n",
    "import json\n",
    "import time\n",
    "\n",
    "# Import API key\n",
    "from api_keys import g_key\n",
    "\n",
    "#Access maps with unique API key\n",
    "gmaps.configure(api_key=g_key)"
   ]
  },
  {
   "cell_type": "code",
   "execution_count": 146,
   "id": "e11ad341",
   "metadata": {},
   "outputs": [
    {
     "data": {
      "text/html": [
       "<div>\n",
       "<style scoped>\n",
       "    .dataframe tbody tr th:only-of-type {\n",
       "        vertical-align: middle;\n",
       "    }\n",
       "\n",
       "    .dataframe tbody tr th {\n",
       "        vertical-align: top;\n",
       "    }\n",
       "\n",
       "    .dataframe thead th {\n",
       "        text-align: right;\n",
       "    }\n",
       "</style>\n",
       "<table border=\"1\" class=\"dataframe\">\n",
       "  <thead>\n",
       "    <tr style=\"text-align: right;\">\n",
       "      <th></th>\n",
       "      <th>City</th>\n",
       "      <th>Lat</th>\n",
       "      <th>Lng</th>\n",
       "      <th>Max Temp</th>\n",
       "      <th>Humidity</th>\n",
       "      <th>Clouds</th>\n",
       "      <th>Wind Speed</th>\n",
       "      <th>Country</th>\n",
       "      <th>Date</th>\n",
       "    </tr>\n",
       "  </thead>\n",
       "  <tbody>\n",
       "    <tr>\n",
       "      <th>0</th>\n",
       "      <td>Jamestown</td>\n",
       "      <td>42.0970</td>\n",
       "      <td>-79.2353</td>\n",
       "      <td>42.39</td>\n",
       "      <td>76</td>\n",
       "      <td>98</td>\n",
       "      <td>7.00</td>\n",
       "      <td>US</td>\n",
       "      <td>1638496676</td>\n",
       "    </tr>\n",
       "    <tr>\n",
       "      <th>1</th>\n",
       "      <td>Busselton</td>\n",
       "      <td>-33.6500</td>\n",
       "      <td>115.3333</td>\n",
       "      <td>70.09</td>\n",
       "      <td>33</td>\n",
       "      <td>0</td>\n",
       "      <td>12.91</td>\n",
       "      <td>AU</td>\n",
       "      <td>1638496955</td>\n",
       "    </tr>\n",
       "    <tr>\n",
       "      <th>2</th>\n",
       "      <td>Mataura</td>\n",
       "      <td>-46.1927</td>\n",
       "      <td>168.8643</td>\n",
       "      <td>67.82</td>\n",
       "      <td>72</td>\n",
       "      <td>97</td>\n",
       "      <td>3.49</td>\n",
       "      <td>NZ</td>\n",
       "      <td>1638496709</td>\n",
       "    </tr>\n",
       "    <tr>\n",
       "      <th>3</th>\n",
       "      <td>Upernavik</td>\n",
       "      <td>72.7868</td>\n",
       "      <td>-56.1549</td>\n",
       "      <td>21.16</td>\n",
       "      <td>88</td>\n",
       "      <td>100</td>\n",
       "      <td>25.68</td>\n",
       "      <td>GL</td>\n",
       "      <td>1638496701</td>\n",
       "    </tr>\n",
       "    <tr>\n",
       "      <th>4</th>\n",
       "      <td>Rikitea</td>\n",
       "      <td>-23.1203</td>\n",
       "      <td>-134.9692</td>\n",
       "      <td>76.28</td>\n",
       "      <td>75</td>\n",
       "      <td>7</td>\n",
       "      <td>15.30</td>\n",
       "      <td>PF</td>\n",
       "      <td>1638496956</td>\n",
       "    </tr>\n",
       "    <tr>\n",
       "      <th>...</th>\n",
       "      <td>...</td>\n",
       "      <td>...</td>\n",
       "      <td>...</td>\n",
       "      <td>...</td>\n",
       "      <td>...</td>\n",
       "      <td>...</td>\n",
       "      <td>...</td>\n",
       "      <td>...</td>\n",
       "      <td>...</td>\n",
       "    </tr>\n",
       "    <tr>\n",
       "      <th>547</th>\n",
       "      <td>Illora</td>\n",
       "      <td>37.2877</td>\n",
       "      <td>-3.8811</td>\n",
       "      <td>38.10</td>\n",
       "      <td>89</td>\n",
       "      <td>0</td>\n",
       "      <td>2.30</td>\n",
       "      <td>ES</td>\n",
       "      <td>1638497116</td>\n",
       "    </tr>\n",
       "    <tr>\n",
       "      <th>548</th>\n",
       "      <td>Lajas</td>\n",
       "      <td>18.0500</td>\n",
       "      <td>-67.0593</td>\n",
       "      <td>78.39</td>\n",
       "      <td>83</td>\n",
       "      <td>8</td>\n",
       "      <td>1.01</td>\n",
       "      <td>PR</td>\n",
       "      <td>1638497116</td>\n",
       "    </tr>\n",
       "    <tr>\n",
       "      <th>549</th>\n",
       "      <td>Booué</td>\n",
       "      <td>-0.0921</td>\n",
       "      <td>11.9385</td>\n",
       "      <td>72.99</td>\n",
       "      <td>99</td>\n",
       "      <td>100</td>\n",
       "      <td>1.14</td>\n",
       "      <td>GA</td>\n",
       "      <td>1638497116</td>\n",
       "    </tr>\n",
       "    <tr>\n",
       "      <th>550</th>\n",
       "      <td>Flinders</td>\n",
       "      <td>-34.5833</td>\n",
       "      <td>150.8552</td>\n",
       "      <td>83.80</td>\n",
       "      <td>74</td>\n",
       "      <td>23</td>\n",
       "      <td>18.81</td>\n",
       "      <td>AU</td>\n",
       "      <td>1638497117</td>\n",
       "    </tr>\n",
       "    <tr>\n",
       "      <th>551</th>\n",
       "      <td>Neuquén</td>\n",
       "      <td>-38.9516</td>\n",
       "      <td>-68.0591</td>\n",
       "      <td>69.69</td>\n",
       "      <td>49</td>\n",
       "      <td>0</td>\n",
       "      <td>3.44</td>\n",
       "      <td>AR</td>\n",
       "      <td>1638497086</td>\n",
       "    </tr>\n",
       "  </tbody>\n",
       "</table>\n",
       "<p>552 rows × 9 columns</p>\n",
       "</div>"
      ],
      "text/plain": [
       "          City      Lat       Lng  Max Temp  Humidity  Clouds  Wind Speed  \\\n",
       "0    Jamestown  42.0970  -79.2353     42.39        76      98        7.00   \n",
       "1    Busselton -33.6500  115.3333     70.09        33       0       12.91   \n",
       "2      Mataura -46.1927  168.8643     67.82        72      97        3.49   \n",
       "3    Upernavik  72.7868  -56.1549     21.16        88     100       25.68   \n",
       "4      Rikitea -23.1203 -134.9692     76.28        75       7       15.30   \n",
       "..         ...      ...       ...       ...       ...     ...         ...   \n",
       "547     Illora  37.2877   -3.8811     38.10        89       0        2.30   \n",
       "548      Lajas  18.0500  -67.0593     78.39        83       8        1.01   \n",
       "549      Booué  -0.0921   11.9385     72.99        99     100        1.14   \n",
       "550   Flinders -34.5833  150.8552     83.80        74      23       18.81   \n",
       "551    Neuquén -38.9516  -68.0591     69.69        49       0        3.44   \n",
       "\n",
       "    Country        Date  \n",
       "0        US  1638496676  \n",
       "1        AU  1638496955  \n",
       "2        NZ  1638496709  \n",
       "3        GL  1638496701  \n",
       "4        PF  1638496956  \n",
       "..      ...         ...  \n",
       "547      ES  1638497116  \n",
       "548      PR  1638497116  \n",
       "549      GA  1638497116  \n",
       "550      AU  1638497117  \n",
       "551      AR  1638497086  \n",
       "\n",
       "[552 rows x 9 columns]"
      ]
     },
     "execution_count": 146,
     "metadata": {},
     "output_type": "execute_result"
    }
   ],
   "source": [
    "city_weather_df = pd.read_csv(\"../resources/cities.csv\")\n",
    "city_weather_df"
   ]
  },
  {
   "cell_type": "code",
   "execution_count": 147,
   "id": "9027f4d0",
   "metadata": {},
   "outputs": [],
   "source": [
    "# Humidity Heat map"
   ]
  },
  {
   "cell_type": "code",
   "execution_count": 148,
   "id": "808d67ec-7b71-4bc1-98d4-cadb8cec7218",
   "metadata": {},
   "outputs": [],
   "source": [
    "#configure gmaps\n",
    "gmaps.configure(api_key=g_key)\n",
    "\n",
    "#Use the Lat and Lng as locations\n",
    "locations = city_weather_df[[\"Lat\",\"Lng\"]]\n",
    "\n",
    "#Add Heatmap layer to map\n",
    "humidity = city_weather_df[\"Humidity\"]"
   ]
  },
  {
   "cell_type": "code",
   "execution_count": 149,
   "id": "1a6493b7",
   "metadata": {},
   "outputs": [
    {
     "data": {
      "application/vnd.jupyter.widget-view+json": {
       "model_id": "da1997f879c742adb19535fa4854a140",
       "version_major": 2,
       "version_minor": 0
      },
      "text/plain": [
       "Figure(layout=FigureLayout(height='420px'))"
      ]
     },
     "metadata": {},
     "output_type": "display_data"
    }
   ],
   "source": [
    "#Plot heatmap\n",
    "fig = gmaps.figure(center=(46.0, -5.0), zoom_level=2)\n",
    "#Add heat layer\n",
    "heat_layer = gmaps.heatmap_layer(locations, weights = humidity, dissipating=False, max_intensity=np.max(humidity), point_radius=3)\n",
    "\n",
    "fig.add_layer(heat_layer)\n",
    "fig "
   ]
  },
  {
   "cell_type": "code",
   "execution_count": 150,
   "id": "5dd1c537-02b6-4541-a83d-efb77d4b8a72",
   "metadata": {},
   "outputs": [
    {
     "data": {
      "text/html": [
       "<div>\n",
       "<style scoped>\n",
       "    .dataframe tbody tr th:only-of-type {\n",
       "        vertical-align: middle;\n",
       "    }\n",
       "\n",
       "    .dataframe tbody tr th {\n",
       "        vertical-align: top;\n",
       "    }\n",
       "\n",
       "    .dataframe thead th {\n",
       "        text-align: right;\n",
       "    }\n",
       "</style>\n",
       "<table border=\"1\" class=\"dataframe\">\n",
       "  <thead>\n",
       "    <tr style=\"text-align: right;\">\n",
       "      <th></th>\n",
       "      <th>City</th>\n",
       "      <th>Lat</th>\n",
       "      <th>Lng</th>\n",
       "      <th>Max Temp</th>\n",
       "      <th>Humidity</th>\n",
       "      <th>Clouds</th>\n",
       "      <th>Wind Speed</th>\n",
       "      <th>Country</th>\n",
       "      <th>Date</th>\n",
       "    </tr>\n",
       "  </thead>\n",
       "  <tbody>\n",
       "    <tr>\n",
       "      <th>186</th>\n",
       "      <td>Berbera</td>\n",
       "      <td>10.4396</td>\n",
       "      <td>45.0143</td>\n",
       "      <td>74.71</td>\n",
       "      <td>61</td>\n",
       "      <td>0</td>\n",
       "      <td>3.58</td>\n",
       "      <td>SO</td>\n",
       "      <td>1638497011</td>\n",
       "    </tr>\n",
       "    <tr>\n",
       "      <th>196</th>\n",
       "      <td>Mossamedes</td>\n",
       "      <td>-15.1961</td>\n",
       "      <td>12.1522</td>\n",
       "      <td>71.17</td>\n",
       "      <td>80</td>\n",
       "      <td>0</td>\n",
       "      <td>4.70</td>\n",
       "      <td>AO</td>\n",
       "      <td>1638497014</td>\n",
       "    </tr>\n",
       "    <tr>\n",
       "      <th>247</th>\n",
       "      <td>Quelimane</td>\n",
       "      <td>-17.8786</td>\n",
       "      <td>36.8883</td>\n",
       "      <td>76.77</td>\n",
       "      <td>84</td>\n",
       "      <td>0</td>\n",
       "      <td>5.73</td>\n",
       "      <td>MZ</td>\n",
       "      <td>1638497029</td>\n",
       "    </tr>\n",
       "    <tr>\n",
       "      <th>261</th>\n",
       "      <td>Ambilobe</td>\n",
       "      <td>-13.2000</td>\n",
       "      <td>49.0500</td>\n",
       "      <td>72.05</td>\n",
       "      <td>75</td>\n",
       "      <td>0</td>\n",
       "      <td>3.49</td>\n",
       "      <td>MG</td>\n",
       "      <td>1638497033</td>\n",
       "    </tr>\n",
       "    <tr>\n",
       "      <th>267</th>\n",
       "      <td>Capitán Bado</td>\n",
       "      <td>-23.2667</td>\n",
       "      <td>-55.5333</td>\n",
       "      <td>70.39</td>\n",
       "      <td>53</td>\n",
       "      <td>0</td>\n",
       "      <td>5.59</td>\n",
       "      <td>PY</td>\n",
       "      <td>1638497035</td>\n",
       "    </tr>\n",
       "    <tr>\n",
       "      <th>289</th>\n",
       "      <td>Arroyos y Esteros</td>\n",
       "      <td>-25.0667</td>\n",
       "      <td>-57.1000</td>\n",
       "      <td>76.75</td>\n",
       "      <td>61</td>\n",
       "      <td>0</td>\n",
       "      <td>5.37</td>\n",
       "      <td>PY</td>\n",
       "      <td>1638497041</td>\n",
       "    </tr>\n",
       "    <tr>\n",
       "      <th>321</th>\n",
       "      <td>Beloha</td>\n",
       "      <td>-25.1667</td>\n",
       "      <td>45.0500</td>\n",
       "      <td>70.95</td>\n",
       "      <td>79</td>\n",
       "      <td>0</td>\n",
       "      <td>9.89</td>\n",
       "      <td>MG</td>\n",
       "      <td>1638496810</td>\n",
       "    </tr>\n",
       "    <tr>\n",
       "      <th>343</th>\n",
       "      <td>Naviraí</td>\n",
       "      <td>-23.0650</td>\n",
       "      <td>-54.1906</td>\n",
       "      <td>71.92</td>\n",
       "      <td>48</td>\n",
       "      <td>0</td>\n",
       "      <td>2.48</td>\n",
       "      <td>BR</td>\n",
       "      <td>1638496820</td>\n",
       "    </tr>\n",
       "    <tr>\n",
       "      <th>387</th>\n",
       "      <td>Salalah</td>\n",
       "      <td>17.0151</td>\n",
       "      <td>54.0924</td>\n",
       "      <td>73.49</td>\n",
       "      <td>56</td>\n",
       "      <td>0</td>\n",
       "      <td>2.30</td>\n",
       "      <td>OM</td>\n",
       "      <td>1638497070</td>\n",
       "    </tr>\n",
       "    <tr>\n",
       "      <th>474</th>\n",
       "      <td>Cuamba</td>\n",
       "      <td>-14.8031</td>\n",
       "      <td>36.5372</td>\n",
       "      <td>72.99</td>\n",
       "      <td>65</td>\n",
       "      <td>0</td>\n",
       "      <td>6.33</td>\n",
       "      <td>MZ</td>\n",
       "      <td>1638497095</td>\n",
       "    </tr>\n",
       "    <tr>\n",
       "      <th>517</th>\n",
       "      <td>Bouna</td>\n",
       "      <td>9.2667</td>\n",
       "      <td>-3.0000</td>\n",
       "      <td>75.42</td>\n",
       "      <td>34</td>\n",
       "      <td>0</td>\n",
       "      <td>3.98</td>\n",
       "      <td>CI</td>\n",
       "      <td>1638497107</td>\n",
       "    </tr>\n",
       "  </tbody>\n",
       "</table>\n",
       "</div>"
      ],
      "text/plain": [
       "                  City      Lat      Lng  Max Temp  Humidity  Clouds  \\\n",
       "186            Berbera  10.4396  45.0143     74.71        61       0   \n",
       "196         Mossamedes -15.1961  12.1522     71.17        80       0   \n",
       "247          Quelimane -17.8786  36.8883     76.77        84       0   \n",
       "261           Ambilobe -13.2000  49.0500     72.05        75       0   \n",
       "267       Capitán Bado -23.2667 -55.5333     70.39        53       0   \n",
       "289  Arroyos y Esteros -25.0667 -57.1000     76.75        61       0   \n",
       "321             Beloha -25.1667  45.0500     70.95        79       0   \n",
       "343            Naviraí -23.0650 -54.1906     71.92        48       0   \n",
       "387            Salalah  17.0151  54.0924     73.49        56       0   \n",
       "474             Cuamba -14.8031  36.5372     72.99        65       0   \n",
       "517              Bouna   9.2667  -3.0000     75.42        34       0   \n",
       "\n",
       "     Wind Speed Country        Date  \n",
       "186        3.58      SO  1638497011  \n",
       "196        4.70      AO  1638497014  \n",
       "247        5.73      MZ  1638497029  \n",
       "261        3.49      MG  1638497033  \n",
       "267        5.59      PY  1638497035  \n",
       "289        5.37      PY  1638497041  \n",
       "321        9.89      MG  1638496810  \n",
       "343        2.48      BR  1638496820  \n",
       "387        2.30      OM  1638497070  \n",
       "474        6.33      MZ  1638497095  \n",
       "517        3.98      CI  1638497107  "
      ]
     },
     "execution_count": 150,
     "metadata": {},
     "output_type": "execute_result"
    }
   ],
   "source": [
    "#Narrow down the cities to fit weather conditions\n",
    "#Drop any rows will null values\n",
    "smaller_city_df = city_weather_df.loc[(city_weather_df[\"Wind Speed\"] <= 10) & (city_weather_df[\"Clouds\"]== 0) & \\\n",
    "                  (city_weather_df[\"Max Temp\"] >= 70) & (city_weather_df[\"Max Temp\"] <= 80)].dropna()\n",
    "smaller_city_df"
   ]
  },
  {
   "cell_type": "code",
   "execution_count": 151,
   "id": "9fe08b5e-01a6-4776-8239-38b2a251d155",
   "metadata": {},
   "outputs": [],
   "source": [
    "# Hotel Map"
   ]
  },
  {
   "cell_type": "code",
   "execution_count": 152,
   "id": "121fe915-4dbe-4431-9a94-7d358ba3fff5",
   "metadata": {},
   "outputs": [
    {
     "data": {
      "text/html": [
       "<div>\n",
       "<style scoped>\n",
       "    .dataframe tbody tr th:only-of-type {\n",
       "        vertical-align: middle;\n",
       "    }\n",
       "\n",
       "    .dataframe tbody tr th {\n",
       "        vertical-align: top;\n",
       "    }\n",
       "\n",
       "    .dataframe thead th {\n",
       "        text-align: right;\n",
       "    }\n",
       "</style>\n",
       "<table border=\"1\" class=\"dataframe\">\n",
       "  <thead>\n",
       "    <tr style=\"text-align: right;\">\n",
       "      <th></th>\n",
       "      <th>City</th>\n",
       "      <th>Country</th>\n",
       "      <th>Lat</th>\n",
       "      <th>Lng</th>\n",
       "      <th>Hotel Name</th>\n",
       "    </tr>\n",
       "  </thead>\n",
       "  <tbody>\n",
       "    <tr>\n",
       "      <th>186</th>\n",
       "      <td>Berbera</td>\n",
       "      <td>SO</td>\n",
       "      <td>10.4396</td>\n",
       "      <td>45.0143</td>\n",
       "      <td></td>\n",
       "    </tr>\n",
       "    <tr>\n",
       "      <th>196</th>\n",
       "      <td>Mossamedes</td>\n",
       "      <td>AO</td>\n",
       "      <td>-15.1961</td>\n",
       "      <td>12.1522</td>\n",
       "      <td></td>\n",
       "    </tr>\n",
       "    <tr>\n",
       "      <th>247</th>\n",
       "      <td>Quelimane</td>\n",
       "      <td>MZ</td>\n",
       "      <td>-17.8786</td>\n",
       "      <td>36.8883</td>\n",
       "      <td></td>\n",
       "    </tr>\n",
       "    <tr>\n",
       "      <th>261</th>\n",
       "      <td>Ambilobe</td>\n",
       "      <td>MG</td>\n",
       "      <td>-13.2000</td>\n",
       "      <td>49.0500</td>\n",
       "      <td></td>\n",
       "    </tr>\n",
       "    <tr>\n",
       "      <th>267</th>\n",
       "      <td>Capitán Bado</td>\n",
       "      <td>PY</td>\n",
       "      <td>-23.2667</td>\n",
       "      <td>-55.5333</td>\n",
       "      <td></td>\n",
       "    </tr>\n",
       "    <tr>\n",
       "      <th>289</th>\n",
       "      <td>Arroyos y Esteros</td>\n",
       "      <td>PY</td>\n",
       "      <td>-25.0667</td>\n",
       "      <td>-57.1000</td>\n",
       "      <td></td>\n",
       "    </tr>\n",
       "    <tr>\n",
       "      <th>321</th>\n",
       "      <td>Beloha</td>\n",
       "      <td>MG</td>\n",
       "      <td>-25.1667</td>\n",
       "      <td>45.0500</td>\n",
       "      <td></td>\n",
       "    </tr>\n",
       "    <tr>\n",
       "      <th>343</th>\n",
       "      <td>Naviraí</td>\n",
       "      <td>BR</td>\n",
       "      <td>-23.0650</td>\n",
       "      <td>-54.1906</td>\n",
       "      <td></td>\n",
       "    </tr>\n",
       "    <tr>\n",
       "      <th>387</th>\n",
       "      <td>Salalah</td>\n",
       "      <td>OM</td>\n",
       "      <td>17.0151</td>\n",
       "      <td>54.0924</td>\n",
       "      <td></td>\n",
       "    </tr>\n",
       "    <tr>\n",
       "      <th>474</th>\n",
       "      <td>Cuamba</td>\n",
       "      <td>MZ</td>\n",
       "      <td>-14.8031</td>\n",
       "      <td>36.5372</td>\n",
       "      <td></td>\n",
       "    </tr>\n",
       "    <tr>\n",
       "      <th>517</th>\n",
       "      <td>Bouna</td>\n",
       "      <td>CI</td>\n",
       "      <td>9.2667</td>\n",
       "      <td>-3.0000</td>\n",
       "      <td></td>\n",
       "    </tr>\n",
       "  </tbody>\n",
       "</table>\n",
       "</div>"
      ],
      "text/plain": [
       "                  City Country      Lat      Lng Hotel Name\n",
       "186            Berbera      SO  10.4396  45.0143           \n",
       "196         Mossamedes      AO -15.1961  12.1522           \n",
       "247          Quelimane      MZ -17.8786  36.8883           \n",
       "261           Ambilobe      MG -13.2000  49.0500           \n",
       "267       Capitán Bado      PY -23.2667 -55.5333           \n",
       "289  Arroyos y Esteros      PY -25.0667 -57.1000           \n",
       "321             Beloha      MG -25.1667  45.0500           \n",
       "343            Naviraí      BR -23.0650 -54.1906           \n",
       "387            Salalah      OM  17.0151  54.0924           \n",
       "474             Cuamba      MZ -14.8031  36.5372           \n",
       "517              Bouna      CI   9.2667  -3.0000           "
      ]
     },
     "execution_count": 152,
     "metadata": {},
     "output_type": "execute_result"
    }
   ],
   "source": [
    " #Store into variable named hotel_df\n",
    "hotel_df = smaller_city_df.loc[:,[\"City\",\"Country\",\"Lat\",\"Lng\"]]\n",
    "\n",
    "#Add a \"Hotel Name\" column to the DataFrame\n",
    "hotel_df[\"Hotel Name\"] = \"\"\n",
    "hotel_df "
   ]
  },
  {
   "cell_type": "code",
   "execution_count": 153,
   "id": "f9b7f3a4",
   "metadata": {},
   "outputs": [],
   "source": [
    " #Set parameters to search for hotels with 5000 meters.\n",
    "base_url = \"https://maps.googleapis.com/maps/api/place/nearbysearch/json?\"\n",
    "\n",
    "params = {\"type\" : \"hotel\",\n",
    "          \"keyword\" : \"hotel\",\n",
    "          \"radius\" : 5000,\n",
    "          \"key\" : g_key}"
   ]
  },
  {
   "cell_type": "code",
   "execution_count": 154,
   "id": "7e8ed6c9-14e9-4581-ba6d-977ef816dd4a",
   "metadata": {},
   "outputs": [
    {
     "name": "stdout",
     "output_type": "stream",
     "text": [
      "Retrieving Results for Index 186: Berbera.\n",
      "Could not find result\n",
      "-------------------------\n",
      "--------------------Ending Search\n",
      "Retrieving Results for Index 196: Mossamedes.\n",
      "Could not find result\n",
      "-------------------------\n",
      "--------------------Ending Search\n",
      "Retrieving Results for Index 247: Quelimane.\n",
      "Could not find result\n",
      "-------------------------\n",
      "--------------------Ending Search\n",
      "Retrieving Results for Index 261: Ambilobe.\n",
      "Could not find result\n",
      "-------------------------\n",
      "--------------------Ending Search\n",
      "Retrieving Results for Index 267: Capitán Bado.\n",
      "Could not find result\n",
      "-------------------------\n",
      "--------------------Ending Search\n",
      "Retrieving Results for Index 289: Arroyos y Esteros.\n",
      "Could not find result\n",
      "-------------------------\n",
      "--------------------Ending Search\n",
      "Retrieving Results for Index 321: Beloha.\n",
      "Could not find result\n",
      "-------------------------\n",
      "--------------------Ending Search\n",
      "Retrieving Results for Index 343: Naviraí.\n",
      "Could not find result\n",
      "-------------------------\n",
      "--------------------Ending Search\n",
      "Retrieving Results for Index 387: Salalah.\n",
      "Could not find result\n",
      "-------------------------\n",
      "--------------------Ending Search\n",
      "Retrieving Results for Index 474: Cuamba.\n",
      "Could not find result\n",
      "-------------------------\n",
      "--------------------Ending Search\n",
      "Retrieving Results for Index 517: Bouna.\n",
      "Could not find result\n",
      "-------------------------\n",
      "--------------------Ending Search\n"
     ]
    }
   ],
   "source": [
    "for index, row in hotel_df.iterrows():\n",
    "    lat = row[\"Lat\"]\n",
    "    lng = row[\"Lng\"]\n",
    "    city_name = row[\"City\"]\n",
    "    \n",
    "    params[\"location\"] = f\"{lat},{lng}\"\n",
    "    \n",
    "    print(f\"Retrieving Results for Index {index}: {city_name}.\")\n",
    "    response = requests.get(base_url, params=params).json()\n",
    "    results = response['results']\n",
    "    \n",
    "    #Save the hotel name to the dataframe\n",
    "    try:\n",
    "        print(f\"Closest hotel in {city_name} is {results[0]['name']}.\")\n",
    "        hotel_df.loc[index, \"Hotel Name\"] = results[0]['name']\n",
    "    except (KeyError, IndexError):\n",
    "        print(\"Could not find result\")\n",
    "        print(\"-------------------------\")\n",
    "        #delay the code by one second to avoid an error\n",
    "        time.sleep(1)\n",
    "    print(\"--------------------Ending Search\")"
   ]
  },
  {
   "cell_type": "code",
   "execution_count": 155,
   "id": "bd3d6659-e7a3-47b1-b268-7512d0c4a141",
   "metadata": {},
   "outputs": [
    {
     "data": {
      "text/html": [
       "<div>\n",
       "<style scoped>\n",
       "    .dataframe tbody tr th:only-of-type {\n",
       "        vertical-align: middle;\n",
       "    }\n",
       "\n",
       "    .dataframe tbody tr th {\n",
       "        vertical-align: top;\n",
       "    }\n",
       "\n",
       "    .dataframe thead th {\n",
       "        text-align: right;\n",
       "    }\n",
       "</style>\n",
       "<table border=\"1\" class=\"dataframe\">\n",
       "  <thead>\n",
       "    <tr style=\"text-align: right;\">\n",
       "      <th></th>\n",
       "      <th>City</th>\n",
       "      <th>Country</th>\n",
       "      <th>Lat</th>\n",
       "      <th>Lng</th>\n",
       "      <th>Hotel Name</th>\n",
       "    </tr>\n",
       "  </thead>\n",
       "  <tbody>\n",
       "    <tr>\n",
       "      <th>186</th>\n",
       "      <td>Berbera</td>\n",
       "      <td>SO</td>\n",
       "      <td>10.4396</td>\n",
       "      <td>45.0143</td>\n",
       "      <td></td>\n",
       "    </tr>\n",
       "    <tr>\n",
       "      <th>196</th>\n",
       "      <td>Mossamedes</td>\n",
       "      <td>AO</td>\n",
       "      <td>-15.1961</td>\n",
       "      <td>12.1522</td>\n",
       "      <td></td>\n",
       "    </tr>\n",
       "    <tr>\n",
       "      <th>247</th>\n",
       "      <td>Quelimane</td>\n",
       "      <td>MZ</td>\n",
       "      <td>-17.8786</td>\n",
       "      <td>36.8883</td>\n",
       "      <td></td>\n",
       "    </tr>\n",
       "    <tr>\n",
       "      <th>261</th>\n",
       "      <td>Ambilobe</td>\n",
       "      <td>MG</td>\n",
       "      <td>-13.2000</td>\n",
       "      <td>49.0500</td>\n",
       "      <td></td>\n",
       "    </tr>\n",
       "    <tr>\n",
       "      <th>267</th>\n",
       "      <td>Capitán Bado</td>\n",
       "      <td>PY</td>\n",
       "      <td>-23.2667</td>\n",
       "      <td>-55.5333</td>\n",
       "      <td></td>\n",
       "    </tr>\n",
       "    <tr>\n",
       "      <th>289</th>\n",
       "      <td>Arroyos y Esteros</td>\n",
       "      <td>PY</td>\n",
       "      <td>-25.0667</td>\n",
       "      <td>-57.1000</td>\n",
       "      <td></td>\n",
       "    </tr>\n",
       "    <tr>\n",
       "      <th>321</th>\n",
       "      <td>Beloha</td>\n",
       "      <td>MG</td>\n",
       "      <td>-25.1667</td>\n",
       "      <td>45.0500</td>\n",
       "      <td></td>\n",
       "    </tr>\n",
       "    <tr>\n",
       "      <th>343</th>\n",
       "      <td>Naviraí</td>\n",
       "      <td>BR</td>\n",
       "      <td>-23.0650</td>\n",
       "      <td>-54.1906</td>\n",
       "      <td></td>\n",
       "    </tr>\n",
       "    <tr>\n",
       "      <th>387</th>\n",
       "      <td>Salalah</td>\n",
       "      <td>OM</td>\n",
       "      <td>17.0151</td>\n",
       "      <td>54.0924</td>\n",
       "      <td></td>\n",
       "    </tr>\n",
       "    <tr>\n",
       "      <th>474</th>\n",
       "      <td>Cuamba</td>\n",
       "      <td>MZ</td>\n",
       "      <td>-14.8031</td>\n",
       "      <td>36.5372</td>\n",
       "      <td></td>\n",
       "    </tr>\n",
       "    <tr>\n",
       "      <th>517</th>\n",
       "      <td>Bouna</td>\n",
       "      <td>CI</td>\n",
       "      <td>9.2667</td>\n",
       "      <td>-3.0000</td>\n",
       "      <td></td>\n",
       "    </tr>\n",
       "  </tbody>\n",
       "</table>\n",
       "</div>"
      ],
      "text/plain": [
       "                  City Country      Lat      Lng Hotel Name\n",
       "186            Berbera      SO  10.4396  45.0143           \n",
       "196         Mossamedes      AO -15.1961  12.1522           \n",
       "247          Quelimane      MZ -17.8786  36.8883           \n",
       "261           Ambilobe      MG -13.2000  49.0500           \n",
       "267       Capitán Bado      PY -23.2667 -55.5333           \n",
       "289  Arroyos y Esteros      PY -25.0667 -57.1000           \n",
       "321             Beloha      MG -25.1667  45.0500           \n",
       "343            Naviraí      BR -23.0650 -54.1906           \n",
       "387            Salalah      OM  17.0151  54.0924           \n",
       "474             Cuamba      MZ -14.8031  36.5372           \n",
       "517              Bouna      CI   9.2667  -3.0000           "
      ]
     },
     "execution_count": 155,
     "metadata": {},
     "output_type": "execute_result"
    }
   ],
   "source": [
    "hotel_df\n"
   ]
  },
  {
   "cell_type": "code",
   "execution_count": 156,
   "id": "a98365c1-8988-47f3-a87d-7cdda5ece548",
   "metadata": {},
   "outputs": [],
   "source": [
    " # NOTE: Do not change any of the code in this cell\n",
    "\n",
    "# Using the template add the hotel marks to the heatmap\n",
    "info_box_template = \"\"\"\n",
    "<dl>\n",
    "<dt>Name</dt><dd>{Hotel Name}</dd>\n",
    "<dt>City</dt><dd>{City}</dd>\n",
    "<dt>Country</dt><dd>{Country}</dd>\n",
    "</dl>\n",
    "\"\"\"\n",
    "# Store the DataFrame Row\n",
    "# NOTE: be sure to update with your DataFrame name\n",
    "hotel_info = [info_box_template.format(**row) for index, row in hotel_df.iterrows()]\n",
    "locations = hotel_df[[\"Lat\", \"Lng\"]] "
   ]
  },
  {
   "cell_type": "code",
   "execution_count": 157,
   "id": "4b97cdf0-5b08-4fb1-b668-25af9b2f2581",
   "metadata": {},
   "outputs": [
    {
     "data": {
      "application/vnd.jupyter.widget-view+json": {
       "model_id": "da1997f879c742adb19535fa4854a140",
       "version_major": 2,
       "version_minor": 0
      },
      "text/plain": [
       "Figure(layout=FigureLayout(height='420px'))"
      ]
     },
     "metadata": {},
     "output_type": "display_data"
    }
   ],
   "source": [
    " # Plot markers on top of the heatmap\n",
    "# Add marker layer ontop of heat map\n",
    "markers = gmaps.marker_layer(locations, info_box_content = hotel_info)\n",
    "fig.add_layer(markers)\n",
    "# Display figure\n",
    "fig"
   ]
  }
 ],
 "metadata": {
  "kernelspec": {
   "display_name": "Python 3",
   "language": "python",
   "name": "python3"
  },
  "language_info": {
   "codemirror_mode": {
    "name": "ipython",
    "version": 3
   },
   "file_extension": ".py",
   "mimetype": "text/x-python",
   "name": "python",
   "nbconvert_exporter": "python",
   "pygments_lexer": "ipython3",
   "version": "3.8.8"
  },
  "widgets": {
   "application/vnd.jupyter.widget-state+json": {
    "state": {
     "031528c97ddb4eb3a1e05311630ef5a8": {
      "model_module": "@jupyter-widgets/base",
      "model_module_version": "1.2.0",
      "model_name": "LayoutModel",
      "state": {
       "height": "100%",
       "width": "100%"
      }
     },
     "0d2f5967f84343978622a542ec5512c5": {
      "model_module": "@jupyter-widgets/base",
      "model_module_version": "1.2.0",
      "model_name": "LayoutModel",
      "state": {
       "height": "420px"
      }
     },
     "156a8a8d3b5740ad88c323409c78b696": {
      "model_module": "@jupyter-widgets/base",
      "model_module_version": "1.2.0",
      "model_name": "LayoutModel",
      "state": {
       "height": "100%",
       "width": "100%"
      }
     },
     "16a5f49e9ad4411e8249b942d1986156": {
      "model_module": "@jupyter-widgets/base",
      "model_module_version": "1.2.0",
      "model_name": "LayoutModel",
      "state": {}
     },
     "1daea42bb07849a08b24081d0bf2c013": {
      "model_module": "@jupyter-widgets/base",
      "model_module_version": "1.2.0",
      "model_name": "LayoutModel",
      "state": {
       "height": "100%",
       "width": "100%"
      }
     },
     "28a5c2bab5ec4c3f9000492e04160a85": {
      "model_module": "@jupyter-widgets/base",
      "model_module_version": "1.2.0",
      "model_name": "LayoutModel",
      "state": {}
     },
     "2dcb3a91e64b4cff81f19403dacccba7": {
      "model_module": "@jupyter-widgets/base",
      "model_module_version": "1.2.0",
      "model_name": "LayoutModel",
      "state": {}
     },
     "2def898875eb4f67a9775790c2a614b1": {
      "model_module": "@jupyter-widgets/base",
      "model_module_version": "1.2.0",
      "model_name": "LayoutModel",
      "state": {
       "height": "100%",
       "width": "100%"
      }
     },
     "317ab04d57eb4a5fb2c9b786734da011": {
      "model_module": "@jupyter-widgets/base",
      "model_module_version": "1.2.0",
      "model_name": "LayoutModel",
      "state": {
       "height": "100%",
       "width": "100%"
      }
     },
     "3322bb55aa85475092eea5dc40188128": {
      "model_module": "@jupyter-widgets/base",
      "model_module_version": "1.2.0",
      "model_name": "LayoutModel",
      "state": {}
     },
     "3ccd967e71194e409c6449241335b7f0": {
      "model_module": "@jupyter-widgets/base",
      "model_module_version": "1.2.0",
      "model_name": "LayoutModel",
      "state": {
       "height": "100%",
       "width": "100%"
      }
     },
     "3cd4af2b269243d689d362bf51663f71": {
      "model_module": "@jupyter-widgets/base",
      "model_module_version": "1.2.0",
      "model_name": "LayoutModel",
      "state": {}
     },
     "3f613f026ad0407f85e5461d812411a6": {
      "model_module": "@jupyter-widgets/base",
      "model_module_version": "1.2.0",
      "model_name": "LayoutModel",
      "state": {
       "height": "100%",
       "width": "100%"
      }
     },
     "405c12f916b8419991a44d5f73aa34f9": {
      "model_module": "@jupyter-widgets/base",
      "model_module_version": "1.2.0",
      "model_name": "LayoutModel",
      "state": {}
     },
     "45d17df20dfd4b4ab74f638bcc472816": {
      "model_module": "@jupyter-widgets/base",
      "model_module_version": "1.2.0",
      "model_name": "LayoutModel",
      "state": {
       "height": "420px"
      }
     },
     "46c3f58466414726aff040069753ad02": {
      "model_module": "@jupyter-widgets/base",
      "model_module_version": "1.2.0",
      "model_name": "LayoutModel",
      "state": {
       "height": "420px"
      }
     },
     "471d42a0f86b4196b53245458b8cba03": {
      "model_module": "@jupyter-widgets/base",
      "model_module_version": "1.2.0",
      "model_name": "LayoutModel",
      "state": {}
     },
     "4b145a497f0244deae95ea8a135eb30c": {
      "model_module": "@jupyter-widgets/base",
      "model_module_version": "1.2.0",
      "model_name": "LayoutModel",
      "state": {}
     },
     "4d9b6494979743d8945fd74acd7f26f6": {
      "model_module": "@jupyter-widgets/base",
      "model_module_version": "1.2.0",
      "model_name": "LayoutModel",
      "state": {
       "height": "100%",
       "width": "100%"
      }
     },
     "4e700dcfc1b840559858bc5fdcc9a9c9": {
      "model_module": "@jupyter-widgets/base",
      "model_module_version": "1.2.0",
      "model_name": "LayoutModel",
      "state": {}
     },
     "50a8edb3ab0b419b95d9c734980a3f68": {
      "model_module": "@jupyter-widgets/base",
      "model_module_version": "1.2.0",
      "model_name": "LayoutModel",
      "state": {}
     },
     "52d8297ccc2447589e8d36e73bf18afb": {
      "model_module": "@jupyter-widgets/base",
      "model_module_version": "1.2.0",
      "model_name": "LayoutModel",
      "state": {}
     },
     "55e3e45c2a044148bf97c079a60bc535": {
      "model_module": "@jupyter-widgets/base",
      "model_module_version": "1.2.0",
      "model_name": "LayoutModel",
      "state": {
       "height": "100%",
       "width": "100%"
      }
     },
     "56cab2ce7bc04d94819408efe8ddad1d": {
      "model_module": "@jupyter-widgets/base",
      "model_module_version": "1.2.0",
      "model_name": "LayoutModel",
      "state": {
       "height": "420px"
      }
     },
     "59ae743315034511b2d0076d19b3fc4b": {
      "model_module": "@jupyter-widgets/base",
      "model_module_version": "1.2.0",
      "model_name": "LayoutModel",
      "state": {
       "height": "420px"
      }
     },
     "5b6bad97de094976a6cc395ba5bfef6a": {
      "model_module": "@jupyter-widgets/base",
      "model_module_version": "1.2.0",
      "model_name": "LayoutModel",
      "state": {
       "height": "420px"
      }
     },
     "5c977c1d5ccc498fba569631fc1b058b": {
      "model_module": "@jupyter-widgets/base",
      "model_module_version": "1.2.0",
      "model_name": "LayoutModel",
      "state": {}
     },
     "6436bcb51f19461b895ed877fded3ec7": {
      "model_module": "@jupyter-widgets/base",
      "model_module_version": "1.2.0",
      "model_name": "LayoutModel",
      "state": {
       "height": "420px"
      }
     },
     "64cc8c584ede40ab86933e7c9c7bebaa": {
      "model_module": "@jupyter-widgets/base",
      "model_module_version": "1.2.0",
      "model_name": "LayoutModel",
      "state": {
       "height": "100%",
       "width": "100%"
      }
     },
     "65ce4ffc8bcd46ceacec23914001b068": {
      "model_module": "@jupyter-widgets/base",
      "model_module_version": "1.2.0",
      "model_name": "LayoutModel",
      "state": {}
     },
     "66812eabe80047ba9beca0959a01a4ac": {
      "model_module": "@jupyter-widgets/base",
      "model_module_version": "1.2.0",
      "model_name": "LayoutModel",
      "state": {
       "height": "100%",
       "width": "100%"
      }
     },
     "704aad059e80488aaaaa173e1dc76181": {
      "model_module": "@jupyter-widgets/base",
      "model_module_version": "1.2.0",
      "model_name": "LayoutModel",
      "state": {}
     },
     "710ae907ed1f4464adbd5c8de9ed1114": {
      "model_module": "@jupyter-widgets/base",
      "model_module_version": "1.2.0",
      "model_name": "LayoutModel",
      "state": {}
     },
     "76bba664ecd64f0cafbb8c28f074e369": {
      "model_module": "@jupyter-widgets/base",
      "model_module_version": "1.2.0",
      "model_name": "LayoutModel",
      "state": {
       "height": "420px"
      }
     },
     "76bff90b12834ae7a6d47a0b962cf31b": {
      "model_module": "@jupyter-widgets/base",
      "model_module_version": "1.2.0",
      "model_name": "LayoutModel",
      "state": {
       "height": "100%",
       "width": "100%"
      }
     },
     "7a47c216f5a147bda625b05ca4dc78f4": {
      "model_module": "@jupyter-widgets/base",
      "model_module_version": "1.2.0",
      "model_name": "LayoutModel",
      "state": {
       "height": "420px"
      }
     },
     "7c9b070608ed4c54bc0fd0bd43f384eb": {
      "model_module": "@jupyter-widgets/base",
      "model_module_version": "1.2.0",
      "model_name": "LayoutModel",
      "state": {}
     },
     "7da20c0d136b4581a630efda8b59de0a": {
      "model_module": "@jupyter-widgets/base",
      "model_module_version": "1.2.0",
      "model_name": "LayoutModel",
      "state": {}
     },
     "82b216501c784d7ba307945e2b2aa8b3": {
      "model_module": "@jupyter-widgets/base",
      "model_module_version": "1.2.0",
      "model_name": "LayoutModel",
      "state": {
       "height": "100%",
       "width": "100%"
      }
     },
     "8c40fa3fdfcd416d912e9e6798acaea4": {
      "model_module": "@jupyter-widgets/base",
      "model_module_version": "1.2.0",
      "model_name": "LayoutModel",
      "state": {
       "height": "420px"
      }
     },
     "8e49fbfe5aa14d31b5d41f96574c43cf": {
      "model_module": "@jupyter-widgets/base",
      "model_module_version": "1.2.0",
      "model_name": "LayoutModel",
      "state": {}
     },
     "91b087ceeab34eff86e95851f89d2427": {
      "model_module": "@jupyter-widgets/base",
      "model_module_version": "1.2.0",
      "model_name": "LayoutModel",
      "state": {
       "height": "420px"
      }
     },
     "97deb8c7f3194a0d8a4f8ee42379412d": {
      "model_module": "@jupyter-widgets/base",
      "model_module_version": "1.2.0",
      "model_name": "LayoutModel",
      "state": {
       "height": "420px"
      }
     },
     "98eccd3be0c4499fa0785a9887af3b84": {
      "model_module": "@jupyter-widgets/base",
      "model_module_version": "1.2.0",
      "model_name": "LayoutModel",
      "state": {
       "height": "420px"
      }
     },
     "9af27443d5284005ad452b1beefc0398": {
      "model_module": "@jupyter-widgets/base",
      "model_module_version": "1.2.0",
      "model_name": "LayoutModel",
      "state": {
       "height": "100%",
       "width": "100%"
      }
     },
     "9e4c0f8ebc514d368aa0c3821088888f": {
      "model_module": "@jupyter-widgets/base",
      "model_module_version": "1.2.0",
      "model_name": "LayoutModel",
      "state": {
       "height": "100%",
       "width": "100%"
      }
     },
     "a4198c1d67db4ea5a90a24aa0af0c44f": {
      "model_module": "@jupyter-widgets/base",
      "model_module_version": "1.2.0",
      "model_name": "LayoutModel",
      "state": {}
     },
     "a7777e73bafd4fc284b788592e4cecef": {
      "model_module": "@jupyter-widgets/base",
      "model_module_version": "1.2.0",
      "model_name": "LayoutModel",
      "state": {}
     },
     "b02920dcbcc04cd191c2a37a9ef047dc": {
      "model_module": "@jupyter-widgets/base",
      "model_module_version": "1.2.0",
      "model_name": "LayoutModel",
      "state": {}
     },
     "b4149274173d4954974cea56e679a771": {
      "model_module": "@jupyter-widgets/base",
      "model_module_version": "1.2.0",
      "model_name": "LayoutModel",
      "state": {}
     },
     "b4e03404fdb942baa843a4e94848e32f": {
      "model_module": "@jupyter-widgets/base",
      "model_module_version": "1.2.0",
      "model_name": "LayoutModel",
      "state": {
       "height": "100%",
       "width": "100%"
      }
     },
     "b83d9e230ad84327849369430068a562": {
      "model_module": "@jupyter-widgets/base",
      "model_module_version": "1.2.0",
      "model_name": "LayoutModel",
      "state": {}
     },
     "b8be4406d9d049b0a8973459cb665e62": {
      "model_module": "@jupyter-widgets/base",
      "model_module_version": "1.2.0",
      "model_name": "LayoutModel",
      "state": {}
     },
     "bb2c329e6eb44e7ea823337532fa01f5": {
      "model_module": "@jupyter-widgets/base",
      "model_module_version": "1.2.0",
      "model_name": "LayoutModel",
      "state": {}
     },
     "c2f9d12934f043d7b199ec47f0cedb21": {
      "model_module": "@jupyter-widgets/base",
      "model_module_version": "1.2.0",
      "model_name": "LayoutModel",
      "state": {}
     },
     "c431b180675c45918ee3a47b20ff8465": {
      "model_module": "@jupyter-widgets/base",
      "model_module_version": "1.2.0",
      "model_name": "LayoutModel",
      "state": {}
     },
     "c881ee52b10c4ce5a712c044caa5aa2c": {
      "model_module": "@jupyter-widgets/base",
      "model_module_version": "1.2.0",
      "model_name": "LayoutModel",
      "state": {}
     },
     "cc8314aea87a4fd88a027c36e7ef1e7e": {
      "model_module": "@jupyter-widgets/base",
      "model_module_version": "1.2.0",
      "model_name": "LayoutModel",
      "state": {}
     },
     "d58e7f6585574886bdc85b7e9df1c41b": {
      "model_module": "@jupyter-widgets/base",
      "model_module_version": "1.2.0",
      "model_name": "LayoutModel",
      "state": {}
     },
     "de59f97221c54e55b1d3b13d3a7c1e70": {
      "model_module": "@jupyter-widgets/base",
      "model_module_version": "1.2.0",
      "model_name": "LayoutModel",
      "state": {
       "height": "420px"
      }
     },
     "e0b45efa9cfe41259287afda8e5749db": {
      "model_module": "@jupyter-widgets/base",
      "model_module_version": "1.2.0",
      "model_name": "LayoutModel",
      "state": {
       "height": "420px"
      }
     },
     "ea48b80319214490b578e8f356439552": {
      "model_module": "@jupyter-widgets/base",
      "model_module_version": "1.2.0",
      "model_name": "LayoutModel",
      "state": {}
     },
     "eb02a1d8f90643f686bcdebc5a1add1f": {
      "model_module": "@jupyter-widgets/base",
      "model_module_version": "1.2.0",
      "model_name": "LayoutModel",
      "state": {
       "height": "420px"
      }
     },
     "f3bb5bb1ae7248788de23842ef1fd7cd": {
      "model_module": "@jupyter-widgets/base",
      "model_module_version": "1.2.0",
      "model_name": "LayoutModel",
      "state": {
       "height": "100%",
       "width": "100%"
      }
     },
     "f4e01943f0504ae693a2ade7725cb885": {
      "model_module": "@jupyter-widgets/base",
      "model_module_version": "1.2.0",
      "model_name": "LayoutModel",
      "state": {}
     },
     "f881f30c2ba64a4fbba5afa11a307463": {
      "model_module": "@jupyter-widgets/base",
      "model_module_version": "1.2.0",
      "model_name": "LayoutModel",
      "state": {}
     },
     "f99d3cb213e6430f8a12ef42cfb4e1d8": {
      "model_module": "@jupyter-widgets/base",
      "model_module_version": "1.2.0",
      "model_name": "LayoutModel",
      "state": {}
     },
     "fe0f5c1afc6b4585ab8baaf9d2b11bae": {
      "model_module": "@jupyter-widgets/base",
      "model_module_version": "1.2.0",
      "model_name": "LayoutModel",
      "state": {
       "height": "420px"
      }
     }
    },
    "version_major": 2,
    "version_minor": 0
   }
  }
 },
 "nbformat": 4,
 "nbformat_minor": 5
}
